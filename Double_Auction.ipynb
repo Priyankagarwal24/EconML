{
  "nbformat": 4,
  "nbformat_minor": 0,
  "metadata": {
    "colab": {
      "provenance": []
    },
    "kernelspec": {
      "name": "python3",
      "display_name": "Python 3"
    },
    "language_info": {
      "name": "python"
    }
  },
  "cells": [
    {
      "cell_type": "code",
      "execution_count": 1,
      "metadata": {
        "id": "WGIstDZ8HxF2",
        "outputId": "8ce19aa4-4022-43b3-edb0-ae17ea69739a",
        "colab": {
          "base_uri": "https://localhost:8080/",
          "height": 130
        }
      },
      "outputs": [
        {
          "output_type": "error",
          "ename": "SyntaxError",
          "evalue": "ignored",
          "traceback": [
            "\u001b[0;36m  File \u001b[0;32m\"<ipython-input-1-559ae0489ee2>\"\u001b[0;36m, line \u001b[0;32m58\u001b[0m\n\u001b[0;31m    buyer_bids = # write code\u001b[0m\n\u001b[0m                 ^\u001b[0m\n\u001b[0;31mSyntaxError\u001b[0m\u001b[0;31m:\u001b[0m invalid syntax\n"
          ]
        }
      ],
      "source": [
        "import numpy as np\n",
        "\n",
        "\n",
        "class DoubleAuction():\n",
        "    def __init__(self, num_buyers, num_sellers, true_valuation_buyers, true_valuation_sellers):\n",
        "        self.num_buyers = num_buyers\n",
        "        self.num_sellers = num_sellers\n",
        "\n",
        "        self.true_valuation_buyers = true_valuation_buyers\n",
        "        self.true_valuation_sellers = true_valuation_sellers\n",
        "\n",
        "    def step(self, buyer_bids, seller_asking_price):\n",
        "        # use algorithm to determine the participanting buyers and sellers\n",
        "        particating_buyers, participating_sellers, market_price = self.auctioneer(buyer_bids, seller_asking_price)\n",
        "\n",
        "        buyer_rewards = np.zeros(self.num_buyers)\n",
        "        seller_rewards = np.zeros(self.num_sellers)\n",
        "\n",
        "        for buyer in particating_buyers:\n",
        "            buyer_rewards[buyer] = self.true_valuation_buyers[buyer] - market_price + np.random.normal(0, 1)\n",
        "\n",
        "        for seller in participating_sellers:\n",
        "            seller_rewards[seller] = market_price - self.true_valuation_sellers[seller] + np.random.normal(0, 1)\n",
        "\n",
        "        return buyer_rewards, seller_rewards, market_price\n",
        "\n",
        "    def auctioneer(self, buyer_bids, seller_asking_price):\n",
        "        # use algorithm to determine the participanting buyers and sellers\n",
        "        # descending order of buyers and sellers by bids and asking price\n",
        "        buyer_ids = np.argsort(buyer_bids)[::-1]\n",
        "        seller_ids = np.argsort(seller_asking_price)[::-1]\n",
        "\n",
        "        # find breakeven index\n",
        "        breakeven_index = 0\n",
        "        for i in range(self.num_buyers):\n",
        "            if buyer_bids[buyer_ids[i]] < seller_asking_price[seller_ids[i]]:\n",
        "                breakeven_index = i\n",
        "                break\n",
        "\n",
        "        participating_buyers = buyer_ids[:breakeven_index]\n",
        "        participating_sellers = seller_ids[:breakeven_index]\n",
        "\n",
        "        price = (buyer_bids[buyer_ids[breakeven_index-1]] + seller_asking_price[seller_ids[breakeven_index-1]]) / 2\n",
        "\n",
        "        return participating_buyers, participating_sellers, price\n",
        "\n",
        "\n",
        "def algorithm(horizon):\n",
        "    double_auction = DoubleAuction(10, 10, 10*np.random.normal(0, 1, 10), 10*np.random.normal(0, 1, 10))\n",
        "    buyer_rewards = np.zeros(10)\n",
        "    seller_rewards = np.zeros(10)\n",
        "    for i in range(horizon):\n",
        "        # each buyer and seller bids and asks\n",
        "        # this is designed by the algorithm (check paper)\n",
        "        # No participant knows of their valuation apriori and learn it while repeatedly\n",
        "        # participating in the market over T rounds.\n",
        "\n",
        "        buyer_bids = # write code\n",
        "        seller_asking_price = # write code\n",
        "\n",
        "        b_reward, s_reward, market_price = double_auction.step(buyer_bids, seller_asking_price)\n",
        "\n",
        "        buyer_rewards = np.add(buyer_rewards, b_reward)\n",
        "        seller_rewards = np.add(seller_rewards, s_reward)"
      ]
    },
    {
      "cell_type": "code",
      "source": [],
      "metadata": {
        "id": "LRjXZyVwHyVu"
      },
      "execution_count": null,
      "outputs": []
    }
  ]
}